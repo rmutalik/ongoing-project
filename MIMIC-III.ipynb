{
 "cells": [
  {
   "cell_type": "markdown",
   "metadata": {},
   "source": [
    "## Define Hypotheses"
   ]
  },
  {
   "cell_type": "markdown",
   "metadata": {},
   "source": [
    "1. What kind of patients were admitted to the ICU? In terms of history, age, etc.\n",
    "2. What was the total caregiver-to-patient ratio? Per department?\n",
    "3. How many medical students worked with patients? How many patients per student?"
   ]
  },
  {
   "cell_type": "markdown",
   "metadata": {},
   "source": [
    "### Determine what kind of datasets would help answer the hypotheses"
   ]
  },
  {
   "cell_type": "markdown",
   "metadata": {},
   "source": [
    "## Import Libraries"
   ]
  },
  {
   "cell_type": "code",
   "execution_count": 1,
   "metadata": {},
   "outputs": [],
   "source": [
    "# Import libraries\n",
    "import os, os.path\n",
    "import shutil\n",
    "\n",
    "import numpy as np\n",
    "import pandas as pd\n",
    "import matplotlib.pyplot as plt"
   ]
  },
  {
   "cell_type": "code",
   "execution_count": 2,
   "metadata": {
    "scrolled": true
   },
   "outputs": [
    {
     "name": "stdout",
     "output_type": "stream",
     "text": [
      "Pandas version:  1.0.1\n",
      "Matplotlib version:  3.1.3\n"
     ]
    }
   ],
   "source": [
    "# Library Versions\n",
    "\n",
    "import matplotlib\n",
    "\n",
    "print(\"Pandas version: \", pd.__version__)\n",
    "print(\"Matplotlib version: \", matplotlib.__version__)"
   ]
  },
  {
   "cell_type": "code",
   "execution_count": 3,
   "metadata": {},
   "outputs": [],
   "source": [
    "# Library Options\n",
    "\n",
    "pd.options.mode.chained_assignment = None  # default='warn'"
   ]
  },
  {
   "cell_type": "markdown",
   "metadata": {},
   "source": [
    "## Load Data"
   ]
  },
  {
   "cell_type": "code",
   "execution_count": 4,
   "metadata": {
    "scrolled": true
   },
   "outputs": [
    {
     "name": "stdout",
     "output_type": "stream",
     "text": [
      "CHARTEVENTS.csv 35307.895134 MB\n"
     ]
    }
   ],
   "source": [
    "# Load Data\n",
    "csv_folder = r'C:\\Users\\rmutalik\\Desktop\\mimic-iii-clinical-database-1.4'\n",
    "df_dict = {}\n",
    "df_large = {}\n",
    "large_files = []\n",
    "\n",
    "# Loop through all files in folders\n",
    "for file in os.listdir(csv_folder):\n",
    "    \n",
    "    if file.endswith(\".csv\"):\n",
    "        name = os.path.splitext(file)[0]\n",
    "\n",
    "        # If file size is greater than ~100MB, skip it\n",
    "        MAX_FILE_SIZE = 100000000\n",
    "        physical_file = os.path.join(csv_folder, file)\n",
    "        statinfo = os.stat(physical_file)\n",
    "#         print(statinfo)            \n",
    "        if statinfo.st_size > MAX_FILE_SIZE:\n",
    "            large_files.append(file)\n",
    "            standardized_size = statinfo.st_size / (10**6)\n",
    "            print(file, standardized_size, \"MB\")\n",
    "            \n",
    "            df_chunk = pd.read_csv(physical_file, chunksize=1000000)\n",
    "            chunk_list = []\n",
    "            for chunk in df_chunk:\n",
    "                chunk_list.append(chunk)\n",
    "                # 10 chunks of data (10 million records) takes my hardware about 45 seconds to load ~ 1 GB of memory\n",
    "                if len(chunk_list) > 5:\n",
    "                    break\n",
    "            df_large[name] = pd.concat(chunk_list)\n",
    "            break\n",
    "        else:\n",
    "            df_dict[name] = pd.read_csv(physical_file)"
   ]
  },
  {
   "cell_type": "code",
   "execution_count": 5,
   "metadata": {
    "scrolled": true
   },
   "outputs": [
    {
     "name": "stdout",
     "output_type": "stream",
     "text": [
      "dict_keys(['CHARTEVENTS'])\n",
      "['CHARTEVENTS.csv']\n",
      "6000000\n"
     ]
    }
   ],
   "source": [
    "print(df_large.keys())\n",
    "\n",
    "# CHARTEVENTS.csv has 400 million records...it will take time to load that data\n",
    "print(large_files)\n",
    "\n",
    "print(len(df_large['CHARTEVENTS']))"
   ]
  },
  {
   "cell_type": "code",
   "execution_count": 6,
   "metadata": {
    "scrolled": true
   },
   "outputs": [
    {
     "name": "stdout",
     "output_type": "stream",
     "text": [
      "<class 'pandas.core.frame.DataFrame'>\n",
      "RangeIndex: 6000000 entries, 0 to 5999999\n",
      "Data columns (total 15 columns):\n",
      " #   Column        Dtype  \n",
      "---  ------        -----  \n",
      " 0   ROW_ID        int64  \n",
      " 1   SUBJECT_ID    int64  \n",
      " 2   HADM_ID       int64  \n",
      " 3   ICUSTAY_ID    float64\n",
      " 4   ITEMID        int64  \n",
      " 5   CHARTTIME     object \n",
      " 6   STORETIME     object \n",
      " 7   CGID          float64\n",
      " 8   VALUE         float64\n",
      " 9   VALUENUM      float64\n",
      " 10  VALUEUOM      object \n",
      " 11  WARNING       int64  \n",
      " 12  ERROR         int64  \n",
      " 13  RESULTSTATUS  float64\n",
      " 14  STOPPED       float64\n",
      "dtypes: float64(6), int64(6), object(3)\n",
      "memory usage: 686.6+ MB\n"
     ]
    }
   ],
   "source": [
    "df_large['CHARTEVENTS'].info()"
   ]
  },
  {
   "cell_type": "code",
   "execution_count": 7,
   "metadata": {
    "scrolled": true
   },
   "outputs": [
    {
     "data": {
      "text/plain": [
       "dict_keys(['ADMISSIONS', 'CALLOUT', 'CAREGIVERS'])"
      ]
     },
     "execution_count": 7,
     "metadata": {},
     "output_type": "execute_result"
    }
   ],
   "source": [
    "df_dict.keys()"
   ]
  },
  {
   "cell_type": "code",
   "execution_count": 8,
   "metadata": {},
   "outputs": [
    {
     "name": "stdout",
     "output_type": "stream",
     "text": [
      "df_dict size:  240 bytes\n",
      "df_large size:  240 bytes\n"
     ]
    }
   ],
   "source": [
    "from sys import getsizeof\n",
    "\n",
    "# ERROR: Prints size of dictionary, which is 240 bytes. Does not print the size of the values inside\n",
    "print(\"df_dict size: \", getsizeof(df_dict), \"bytes\")\n",
    "print(\"df_large size: \", getsizeof(df_large), \"bytes\")"
   ]
  },
  {
   "cell_type": "markdown",
   "metadata": {},
   "source": [
    "## Explore Data"
   ]
  },
  {
   "cell_type": "code",
   "execution_count": 9,
   "metadata": {},
   "outputs": [],
   "source": [
    "df_admissions = df_dict['ADMISSIONS']"
   ]
  },
  {
   "cell_type": "code",
   "execution_count": 10,
   "metadata": {
    "scrolled": true
   },
   "outputs": [
    {
     "data": {
      "text/html": [
       "<div>\n",
       "<style scoped>\n",
       "    .dataframe tbody tr th:only-of-type {\n",
       "        vertical-align: middle;\n",
       "    }\n",
       "\n",
       "    .dataframe tbody tr th {\n",
       "        vertical-align: top;\n",
       "    }\n",
       "\n",
       "    .dataframe thead th {\n",
       "        text-align: right;\n",
       "    }\n",
       "</style>\n",
       "<table border=\"1\" class=\"dataframe\">\n",
       "  <thead>\n",
       "    <tr style=\"text-align: right;\">\n",
       "      <th></th>\n",
       "      <th>ROW_ID</th>\n",
       "      <th>SUBJECT_ID</th>\n",
       "      <th>HADM_ID</th>\n",
       "      <th>ADMITTIME</th>\n",
       "      <th>DISCHTIME</th>\n",
       "      <th>DEATHTIME</th>\n",
       "      <th>ADMISSION_TYPE</th>\n",
       "      <th>ADMISSION_LOCATION</th>\n",
       "      <th>DISCHARGE_LOCATION</th>\n",
       "      <th>INSURANCE</th>\n",
       "      <th>LANGUAGE</th>\n",
       "      <th>RELIGION</th>\n",
       "      <th>MARITAL_STATUS</th>\n",
       "      <th>ETHNICITY</th>\n",
       "      <th>EDREGTIME</th>\n",
       "      <th>EDOUTTIME</th>\n",
       "      <th>DIAGNOSIS</th>\n",
       "      <th>HOSPITAL_EXPIRE_FLAG</th>\n",
       "      <th>HAS_CHARTEVENTS_DATA</th>\n",
       "    </tr>\n",
       "  </thead>\n",
       "  <tbody>\n",
       "    <tr>\n",
       "      <th>0</th>\n",
       "      <td>21</td>\n",
       "      <td>22</td>\n",
       "      <td>165315</td>\n",
       "      <td>2196-04-09 12:26:00</td>\n",
       "      <td>2196-04-10 15:54:00</td>\n",
       "      <td>NaN</td>\n",
       "      <td>EMERGENCY</td>\n",
       "      <td>EMERGENCY ROOM ADMIT</td>\n",
       "      <td>DISC-TRAN CANCER/CHLDRN H</td>\n",
       "      <td>Private</td>\n",
       "      <td>NaN</td>\n",
       "      <td>UNOBTAINABLE</td>\n",
       "      <td>MARRIED</td>\n",
       "      <td>WHITE</td>\n",
       "      <td>2196-04-09 10:06:00</td>\n",
       "      <td>2196-04-09 13:24:00</td>\n",
       "      <td>BENZODIAZEPINE OVERDOSE</td>\n",
       "      <td>0</td>\n",
       "      <td>1</td>\n",
       "    </tr>\n",
       "    <tr>\n",
       "      <th>1</th>\n",
       "      <td>22</td>\n",
       "      <td>23</td>\n",
       "      <td>152223</td>\n",
       "      <td>2153-09-03 07:15:00</td>\n",
       "      <td>2153-09-08 19:10:00</td>\n",
       "      <td>NaN</td>\n",
       "      <td>ELECTIVE</td>\n",
       "      <td>PHYS REFERRAL/NORMAL DELI</td>\n",
       "      <td>HOME HEALTH CARE</td>\n",
       "      <td>Medicare</td>\n",
       "      <td>NaN</td>\n",
       "      <td>CATHOLIC</td>\n",
       "      <td>MARRIED</td>\n",
       "      <td>WHITE</td>\n",
       "      <td>NaN</td>\n",
       "      <td>NaN</td>\n",
       "      <td>CORONARY ARTERY DISEASE\\CORONARY ARTERY BYPASS...</td>\n",
       "      <td>0</td>\n",
       "      <td>1</td>\n",
       "    </tr>\n",
       "    <tr>\n",
       "      <th>2</th>\n",
       "      <td>23</td>\n",
       "      <td>23</td>\n",
       "      <td>124321</td>\n",
       "      <td>2157-10-18 19:34:00</td>\n",
       "      <td>2157-10-25 14:00:00</td>\n",
       "      <td>NaN</td>\n",
       "      <td>EMERGENCY</td>\n",
       "      <td>TRANSFER FROM HOSP/EXTRAM</td>\n",
       "      <td>HOME HEALTH CARE</td>\n",
       "      <td>Medicare</td>\n",
       "      <td>ENGL</td>\n",
       "      <td>CATHOLIC</td>\n",
       "      <td>MARRIED</td>\n",
       "      <td>WHITE</td>\n",
       "      <td>NaN</td>\n",
       "      <td>NaN</td>\n",
       "      <td>BRAIN MASS</td>\n",
       "      <td>0</td>\n",
       "      <td>1</td>\n",
       "    </tr>\n",
       "    <tr>\n",
       "      <th>3</th>\n",
       "      <td>24</td>\n",
       "      <td>24</td>\n",
       "      <td>161859</td>\n",
       "      <td>2139-06-06 16:14:00</td>\n",
       "      <td>2139-06-09 12:48:00</td>\n",
       "      <td>NaN</td>\n",
       "      <td>EMERGENCY</td>\n",
       "      <td>TRANSFER FROM HOSP/EXTRAM</td>\n",
       "      <td>HOME</td>\n",
       "      <td>Private</td>\n",
       "      <td>NaN</td>\n",
       "      <td>PROTESTANT QUAKER</td>\n",
       "      <td>SINGLE</td>\n",
       "      <td>WHITE</td>\n",
       "      <td>NaN</td>\n",
       "      <td>NaN</td>\n",
       "      <td>INTERIOR MYOCARDIAL INFARCTION</td>\n",
       "      <td>0</td>\n",
       "      <td>1</td>\n",
       "    </tr>\n",
       "    <tr>\n",
       "      <th>4</th>\n",
       "      <td>25</td>\n",
       "      <td>25</td>\n",
       "      <td>129635</td>\n",
       "      <td>2160-11-02 02:06:00</td>\n",
       "      <td>2160-11-05 14:55:00</td>\n",
       "      <td>NaN</td>\n",
       "      <td>EMERGENCY</td>\n",
       "      <td>EMERGENCY ROOM ADMIT</td>\n",
       "      <td>HOME</td>\n",
       "      <td>Private</td>\n",
       "      <td>NaN</td>\n",
       "      <td>UNOBTAINABLE</td>\n",
       "      <td>MARRIED</td>\n",
       "      <td>WHITE</td>\n",
       "      <td>2160-11-02 01:01:00</td>\n",
       "      <td>2160-11-02 04:27:00</td>\n",
       "      <td>ACUTE CORONARY SYNDROME</td>\n",
       "      <td>0</td>\n",
       "      <td>1</td>\n",
       "    </tr>\n",
       "  </tbody>\n",
       "</table>\n",
       "</div>"
      ],
      "text/plain": [
       "   ROW_ID  SUBJECT_ID  HADM_ID            ADMITTIME            DISCHTIME  \\\n",
       "0      21          22   165315  2196-04-09 12:26:00  2196-04-10 15:54:00   \n",
       "1      22          23   152223  2153-09-03 07:15:00  2153-09-08 19:10:00   \n",
       "2      23          23   124321  2157-10-18 19:34:00  2157-10-25 14:00:00   \n",
       "3      24          24   161859  2139-06-06 16:14:00  2139-06-09 12:48:00   \n",
       "4      25          25   129635  2160-11-02 02:06:00  2160-11-05 14:55:00   \n",
       "\n",
       "  DEATHTIME ADMISSION_TYPE         ADMISSION_LOCATION  \\\n",
       "0       NaN      EMERGENCY       EMERGENCY ROOM ADMIT   \n",
       "1       NaN       ELECTIVE  PHYS REFERRAL/NORMAL DELI   \n",
       "2       NaN      EMERGENCY  TRANSFER FROM HOSP/EXTRAM   \n",
       "3       NaN      EMERGENCY  TRANSFER FROM HOSP/EXTRAM   \n",
       "4       NaN      EMERGENCY       EMERGENCY ROOM ADMIT   \n",
       "\n",
       "          DISCHARGE_LOCATION INSURANCE LANGUAGE           RELIGION  \\\n",
       "0  DISC-TRAN CANCER/CHLDRN H   Private      NaN       UNOBTAINABLE   \n",
       "1           HOME HEALTH CARE  Medicare      NaN           CATHOLIC   \n",
       "2           HOME HEALTH CARE  Medicare     ENGL           CATHOLIC   \n",
       "3                       HOME   Private      NaN  PROTESTANT QUAKER   \n",
       "4                       HOME   Private      NaN       UNOBTAINABLE   \n",
       "\n",
       "  MARITAL_STATUS ETHNICITY            EDREGTIME            EDOUTTIME  \\\n",
       "0        MARRIED     WHITE  2196-04-09 10:06:00  2196-04-09 13:24:00   \n",
       "1        MARRIED     WHITE                  NaN                  NaN   \n",
       "2        MARRIED     WHITE                  NaN                  NaN   \n",
       "3         SINGLE     WHITE                  NaN                  NaN   \n",
       "4        MARRIED     WHITE  2160-11-02 01:01:00  2160-11-02 04:27:00   \n",
       "\n",
       "                                           DIAGNOSIS  HOSPITAL_EXPIRE_FLAG  \\\n",
       "0                            BENZODIAZEPINE OVERDOSE                     0   \n",
       "1  CORONARY ARTERY DISEASE\\CORONARY ARTERY BYPASS...                     0   \n",
       "2                                         BRAIN MASS                     0   \n",
       "3                     INTERIOR MYOCARDIAL INFARCTION                     0   \n",
       "4                            ACUTE CORONARY SYNDROME                     0   \n",
       "\n",
       "   HAS_CHARTEVENTS_DATA  \n",
       "0                     1  \n",
       "1                     1  \n",
       "2                     1  \n",
       "3                     1  \n",
       "4                     1  "
      ]
     },
     "execution_count": 10,
     "metadata": {},
     "output_type": "execute_result"
    }
   ],
   "source": [
    "df_admissions.head()"
   ]
  },
  {
   "cell_type": "code",
   "execution_count": 11,
   "metadata": {},
   "outputs": [
    {
     "name": "stdout",
     "output_type": "stream",
     "text": [
      "<class 'pandas.core.frame.DataFrame'>\n",
      "RangeIndex: 58976 entries, 0 to 58975\n",
      "Data columns (total 19 columns):\n",
      " #   Column                Non-Null Count  Dtype \n",
      "---  ------                --------------  ----- \n",
      " 0   ROW_ID                58976 non-null  int64 \n",
      " 1   SUBJECT_ID            58976 non-null  int64 \n",
      " 2   HADM_ID               58976 non-null  int64 \n",
      " 3   ADMITTIME             58976 non-null  object\n",
      " 4   DISCHTIME             58976 non-null  object\n",
      " 5   DEATHTIME             5854 non-null   object\n",
      " 6   ADMISSION_TYPE        58976 non-null  object\n",
      " 7   ADMISSION_LOCATION    58976 non-null  object\n",
      " 8   DISCHARGE_LOCATION    58976 non-null  object\n",
      " 9   INSURANCE             58976 non-null  object\n",
      " 10  LANGUAGE              33644 non-null  object\n",
      " 11  RELIGION              58518 non-null  object\n",
      " 12  MARITAL_STATUS        48848 non-null  object\n",
      " 13  ETHNICITY             58976 non-null  object\n",
      " 14  EDREGTIME             30877 non-null  object\n",
      " 15  EDOUTTIME             30877 non-null  object\n",
      " 16  DIAGNOSIS             58951 non-null  object\n",
      " 17  HOSPITAL_EXPIRE_FLAG  58976 non-null  int64 \n",
      " 18  HAS_CHARTEVENTS_DATA  58976 non-null  int64 \n",
      "dtypes: int64(5), object(14)\n",
      "memory usage: 8.5+ MB\n"
     ]
    },
    {
     "data": {
      "text/plain": [
       "ROW_ID                      0\n",
       "SUBJECT_ID                  0\n",
       "HADM_ID                     0\n",
       "ADMITTIME                   0\n",
       "DISCHTIME                   0\n",
       "DEATHTIME               53122\n",
       "ADMISSION_TYPE              0\n",
       "ADMISSION_LOCATION          0\n",
       "DISCHARGE_LOCATION          0\n",
       "INSURANCE                   0\n",
       "LANGUAGE                25332\n",
       "RELIGION                  458\n",
       "MARITAL_STATUS          10128\n",
       "ETHNICITY                   0\n",
       "EDREGTIME               28099\n",
       "EDOUTTIME               28099\n",
       "DIAGNOSIS                  25\n",
       "HOSPITAL_EXPIRE_FLAG        0\n",
       "HAS_CHARTEVENTS_DATA        0\n",
       "dtype: int64"
      ]
     },
     "execution_count": 11,
     "metadata": {},
     "output_type": "execute_result"
    }
   ],
   "source": [
    "df_admissions.info()\n",
    "df_admissions.describe()\n",
    "df_admissions.isna().sum()"
   ]
  },
  {
   "cell_type": "code",
   "execution_count": 12,
   "metadata": {},
   "outputs": [
    {
     "data": {
      "text/html": [
       "<div>\n",
       "<style scoped>\n",
       "    .dataframe tbody tr th:only-of-type {\n",
       "        vertical-align: middle;\n",
       "    }\n",
       "\n",
       "    .dataframe tbody tr th {\n",
       "        vertical-align: top;\n",
       "    }\n",
       "\n",
       "    .dataframe thead th {\n",
       "        text-align: right;\n",
       "    }\n",
       "</style>\n",
       "<table border=\"1\" class=\"dataframe\">\n",
       "  <thead>\n",
       "    <tr style=\"text-align: right;\">\n",
       "      <th></th>\n",
       "      <th>ROW_ID</th>\n",
       "      <th>CGID</th>\n",
       "      <th>LABEL</th>\n",
       "      <th>DESCRIPTION</th>\n",
       "    </tr>\n",
       "  </thead>\n",
       "  <tbody>\n",
       "    <tr>\n",
       "      <th>0</th>\n",
       "      <td>2228</td>\n",
       "      <td>16174</td>\n",
       "      <td>RO</td>\n",
       "      <td>Read Only</td>\n",
       "    </tr>\n",
       "    <tr>\n",
       "      <th>1</th>\n",
       "      <td>2229</td>\n",
       "      <td>16175</td>\n",
       "      <td>RO</td>\n",
       "      <td>Read Only</td>\n",
       "    </tr>\n",
       "    <tr>\n",
       "      <th>2</th>\n",
       "      <td>2230</td>\n",
       "      <td>16176</td>\n",
       "      <td>Res</td>\n",
       "      <td>Resident/Fellow/PA/NP</td>\n",
       "    </tr>\n",
       "    <tr>\n",
       "      <th>3</th>\n",
       "      <td>2231</td>\n",
       "      <td>16177</td>\n",
       "      <td>RO</td>\n",
       "      <td>Read Only</td>\n",
       "    </tr>\n",
       "    <tr>\n",
       "      <th>4</th>\n",
       "      <td>2232</td>\n",
       "      <td>16178</td>\n",
       "      <td>RT</td>\n",
       "      <td>Respiratory</td>\n",
       "    </tr>\n",
       "  </tbody>\n",
       "</table>\n",
       "</div>"
      ],
      "text/plain": [
       "   ROW_ID   CGID LABEL            DESCRIPTION\n",
       "0    2228  16174    RO              Read Only\n",
       "1    2229  16175    RO              Read Only\n",
       "2    2230  16176   Res  Resident/Fellow/PA/NP\n",
       "3    2231  16177    RO              Read Only\n",
       "4    2232  16178    RT            Respiratory"
      ]
     },
     "execution_count": 12,
     "metadata": {},
     "output_type": "execute_result"
    }
   ],
   "source": [
    "df_dict['CAREGIVERS'].head()"
   ]
  },
  {
   "cell_type": "code",
   "execution_count": 13,
   "metadata": {
    "scrolled": true
   },
   "outputs": [
    {
     "data": {
      "text/plain": [
       "array(['RO', 'Res', 'RT', 'Rehab', 'MD', 'CM', 'RN', 'SW', 'RPH', 'MDs',\n",
       "       'NP', 'RPh', 'SRT', 'RD', 'PCT', 'CoWork', 'Admin', 'CoWker',\n",
       "       'UCO', 'PC', 'co-wor', 'RRT', 'MS', 'RTH', 'DI', 'SNP', 'ISOPS',\n",
       "       'Med ST', 'ISSupp', 'CoWkr', 'RNC', 'PCA', 'HMSIV', 'MedSty', 'UA',\n",
       "       'UC', 'RA', 'NEOB', 'Rn', 'RRts', 'Studen', 'LICSW', 'U A',\n",
       "       'StPHa', 'CoOPSt', 'MedStu', 'PT', 'MedSt', 'Intern', 'StNurs',\n",
       "       'rn', nan, 'AR', 'PHD', 'Dr', 'Fell', 'PA', 'H', 'St', 'IMD',\n",
       "       'CoOpSt', 'CRT', 'SN', 'Medst', 'MSIV', 'STD', 'ajm', 'OTR/L',\n",
       "       'Stu', 'RNs', 'R.Ph', 'PhStud', 'NSV', 'MSI', 'AL', 'MEDST', 'ms',\n",
       "       'SRN', 'Nurs', 'Ms', 'Mds', 'NS', 'eaw', 'StNRS', 'PhD', 'MedRes',\n",
       "       'NsgSt', 'RTSt', 'Coord', 'DR', 'RES', 'NuStud', 'PharmD', 'md',\n",
       "       'RTStu', 'Prog', 'ReschA', 'CRA', 'PHaD', 'RN,RPh', 'ISSUPP',\n",
       "       'Stud', 'Rph', 'CoOpst', 'MedSt.', 'Co-Wor', 'CRS', 'PhaD', 'Md',\n",
       "       'DietIn', 'D', 'CCP', 'CoRN', 'ReAssi', 'DPM', 'RTS', '1390',\n",
       "       'PhaStu', 'Std', 'CPhT', 'di', 'NStude', '9596', 'Isops', 'Np',\n",
       "       'Med St', 'Co-Wkr', 'pct', 'MDS', 'RS', 'Nurse', 'RD,LDN', '3874',\n",
       "       'CCRN', 'MFD', 'HMS MS', 'Co-wkr', 'MSII', 'ISSC', 'DML', 'RD Int',\n",
       "       'RNBA', 'Coor', 'UCO/PC', 'Cowork', 'studen', 'DRM', 'MD,PhD',\n",
       "       'dht', 'CsMngm', 'COOPST', 'DataMg', 'PA-C', 'SNNP', 'RRTs', 'PS',\n",
       "       'NNP', 'StuRN', 'STN', 'RHP', 'Reside', 'Coordi', 'MS,RD', 'ISCS',\n",
       "       'mcd', 'Nur-St', 'RN Stu', 'Co-wor', 'SW Int', 'RNStu', 'Co-Ord',\n",
       "       'Coop S', 'StNuIV', 'NPS', 'RT Stu', 'DirHCQ', 'std', 'PCS', 'LPN',\n",
       "       'respst', 'RN CM', 'RPHS', 'CoOp S', 'Ph.Stu', 'Coopst', 'MSWint',\n",
       "       'CoOp', 'StNur', 'R.Ph.', 'MTASCP', 'LS', 'RNCM', 'PH Stu',\n",
       "       'Med. S', 'SWInt', 'BSMT', 'Co-Wk', 'rts', 'AA', 'HMS IV', 'RF',\n",
       "       'Medica', 'SPG', 'MS V', 'LDN', 'StPh', 'StuNur', 'IS', 'IS Int',\n",
       "       'Unit A', 'taf', 'tap', 'Stn MD', 'PSt', 'PracSt', 'RRt', 'res',\n",
       "       'VS', 'Par', 'RD/LDN', 'PrADM', 'HMS', 'na', 'CoOPst', 'Ph Stu',\n",
       "       'rrt', 'nnp', 'CO-Op', 'DO', 'cda', 'MSV'], dtype=object)"
      ]
     },
     "execution_count": 13,
     "metadata": {},
     "output_type": "execute_result"
    }
   ],
   "source": [
    "df_dict['CAREGIVERS']['LABEL'].unique()"
   ]
  },
  {
   "cell_type": "code",
   "execution_count": 14,
   "metadata": {
    "scrolled": true
   },
   "outputs": [
    {
     "data": {
      "text/plain": [
       "array(['Read Only', 'Resident/Fellow/PA/NP', 'Respiratory',\n",
       "       'Rehabilitation', nan, 'Case Manager', 'RN', 'Attending',\n",
       "       'Social Worker', 'Pharmacist', 'Dietitian', 'PCT/NA',\n",
       "       'Administrator', 'Pastoral Care', 'Research Assistant', 'UCO',\n",
       "       'IMD'], dtype=object)"
      ]
     },
     "execution_count": 14,
     "metadata": {},
     "output_type": "execute_result"
    }
   ],
   "source": [
    "df_dict['CAREGIVERS']['DESCRIPTION'].unique()"
   ]
  },
  {
   "cell_type": "markdown",
   "metadata": {},
   "source": [
    "### Explore resident caregivers"
   ]
  },
  {
   "cell_type": "code",
   "execution_count": 15,
   "metadata": {
    "scrolled": true
   },
   "outputs": [
    {
     "data": {
      "text/plain": [
       "array(['Res', 'MDs', 'MD', 'MS', 'Intern', 'Fell', 'PA', 'NP', 'ajm',\n",
       "       'ms', 'STD', 'Ms', 'Mds', 'eaw', 'MedStu', 'MedRes', 'RN', 'RRT',\n",
       "       '1390', 'Std', '9596', 'Med St', '3874', 'HMS MS', 'DML', 'MDS',\n",
       "       'Studen', 'RF'], dtype=object)"
      ]
     },
     "execution_count": 15,
     "metadata": {},
     "output_type": "execute_result"
    }
   ],
   "source": [
    "residents = df_dict['CAREGIVERS'][ df_dict['CAREGIVERS']['DESCRIPTION'] == 'Resident/Fellow/PA/NP' ]\n",
    "\n",
    "residents['LABEL'].unique()"
   ]
  },
  {
   "cell_type": "code",
   "execution_count": 16,
   "metadata": {
    "scrolled": true
   },
   "outputs": [
    {
     "data": {
      "text/plain": [
       "{'MS': 'student',\n",
       " 'Intern': 'student',\n",
       " 'ms': 'student',\n",
       " 'STD': 'student',\n",
       " 'Ms': 'student',\n",
       " 'Mds': 'student',\n",
       " 'MedStu': 'student',\n",
       " 'Std': 'student',\n",
       " 'Med St': 'student',\n",
       " 'MDS': 'student',\n",
       " 'Studen': 'student'}"
      ]
     },
     "execution_count": 16,
     "metadata": {},
     "output_type": "execute_result"
    }
   ],
   "source": [
    "residents_label = residents['LABEL'].to_dict().fromkeys(['MS','Intern','ms','STD','Ms','Mds',\n",
    "                                               'MedStu','Std','Med St','MDS','Studen'], \n",
    "                                'student')\n",
    "\n",
    "residents_label"
   ]
  },
  {
   "cell_type": "code",
   "execution_count": 17,
   "metadata": {
    "scrolled": true
   },
   "outputs": [],
   "source": [
    "residents.replace(residents_label, inplace=True)"
   ]
  },
  {
   "cell_type": "code",
   "execution_count": 18,
   "metadata": {
    "scrolled": false
   },
   "outputs": [
    {
     "data": {
      "text/plain": [
       "array(['Res', 'MDs', 'MD', 'student', 'Fell', 'PA', 'NP', 'ajm', 'eaw',\n",
       "       'MedRes', 'RN', 'RRT', '1390', '9596', '3874', 'HMS MS', 'DML',\n",
       "       'RF'], dtype=object)"
      ]
     },
     "execution_count": 18,
     "metadata": {},
     "output_type": "execute_result"
    }
   ],
   "source": [
    "residents['LABEL'].unique()"
   ]
  },
  {
   "cell_type": "markdown",
   "metadata": {},
   "source": [
    "#### Remove values with unknown Label and only 1 record"
   ]
  },
  {
   "cell_type": "code",
   "execution_count": 19,
   "metadata": {
    "scrolled": true
   },
   "outputs": [
    {
     "data": {
      "text/plain": [
       "Res        1219\n",
       "MD          148\n",
       "MDs         125\n",
       "student      31\n",
       "RN            4\n",
       "NP            4\n",
       "PA            4\n",
       "9596          1\n",
       "eaw           1\n",
       "Fell          1\n",
       "1390          1\n",
       "RF            1\n",
       "ajm           1\n",
       "RRT           1\n",
       "3874          1\n",
       "HMS MS        1\n",
       "MedRes        1\n",
       "DML           1\n",
       "Name: LABEL, dtype: int64"
      ]
     },
     "execution_count": 19,
     "metadata": {},
     "output_type": "execute_result"
    }
   ],
   "source": [
    "r_vc = residents['LABEL'].value_counts()\n",
    "\n",
    "r_vc"
   ]
  },
  {
   "cell_type": "code",
   "execution_count": 20,
   "metadata": {
    "scrolled": true
   },
   "outputs": [
    {
     "data": {
      "text/plain": [
       "array(['Fell', 'ajm', 'eaw', 'MedRes', 'RRT', '1390', '9596', '3874',\n",
       "       'HMS MS', 'DML', 'RF'], dtype=object)"
      ]
     },
     "execution_count": 20,
     "metadata": {},
     "output_type": "execute_result"
    }
   ],
   "source": [
    "residents.groupby('LABEL').filter(lambda x: len(x) == 1)['LABEL'].to_numpy()\n",
    "# residents[residents['LABEL'].isin(r_vc[r_vc == 1].index)]['LABEL'].values   # Does same thing"
   ]
  },
  {
   "cell_type": "code",
   "execution_count": 21,
   "metadata": {},
   "outputs": [],
   "source": [
    "unknown_labels = residents.groupby('LABEL').filter(lambda x: len(x) == 1)['LABEL'].to_numpy()\n",
    "\n",
    "residents = residents[~residents['LABEL'].isin(unknown_labels)]"
   ]
  },
  {
   "cell_type": "code",
   "execution_count": 22,
   "metadata": {},
   "outputs": [
    {
     "data": {
      "text/plain": [
       "array(['Res', 'MDs', 'MD', 'student', 'PA', 'NP', 'RN'], dtype=object)"
      ]
     },
     "execution_count": 22,
     "metadata": {},
     "output_type": "execute_result"
    }
   ],
   "source": [
    "residents['LABEL'].unique()"
   ]
  },
  {
   "cell_type": "markdown",
   "metadata": {},
   "source": [
    "#### Update original DataFrame with 'residents' data"
   ]
  },
  {
   "cell_type": "code",
   "execution_count": 23,
   "metadata": {},
   "outputs": [
    {
     "data": {
      "text/plain": [
       "(1535, 4)"
      ]
     },
     "execution_count": 23,
     "metadata": {},
     "output_type": "execute_result"
    }
   ],
   "source": [
    "residents.shape"
   ]
  },
  {
   "cell_type": "code",
   "execution_count": 24,
   "metadata": {
    "scrolled": false
   },
   "outputs": [
    {
     "data": {
      "text/plain": [
       "(1546, 4)"
      ]
     },
     "execution_count": 24,
     "metadata": {},
     "output_type": "execute_result"
    }
   ],
   "source": [
    "df_dict['CAREGIVERS'][ df_dict['CAREGIVERS']['DESCRIPTION'] == 'Resident/Fellow/PA/NP' ].shape"
   ]
  },
  {
   "cell_type": "code",
   "execution_count": 25,
   "metadata": {
    "scrolled": true
   },
   "outputs": [
    {
     "data": {
      "text/html": [
       "<div>\n",
       "<style scoped>\n",
       "    .dataframe tbody tr th:only-of-type {\n",
       "        vertical-align: middle;\n",
       "    }\n",
       "\n",
       "    .dataframe tbody tr th {\n",
       "        vertical-align: top;\n",
       "    }\n",
       "\n",
       "    .dataframe thead th {\n",
       "        text-align: right;\n",
       "    }\n",
       "</style>\n",
       "<table border=\"1\" class=\"dataframe\">\n",
       "  <thead>\n",
       "    <tr style=\"text-align: right;\">\n",
       "      <th></th>\n",
       "      <th>ROW_ID</th>\n",
       "      <th>CGID</th>\n",
       "      <th>LABEL</th>\n",
       "      <th>DESCRIPTION</th>\n",
       "    </tr>\n",
       "  </thead>\n",
       "  <tbody>\n",
       "    <tr>\n",
       "      <th>554</th>\n",
       "      <td>842.0</td>\n",
       "      <td>14842.0</td>\n",
       "      <td>student</td>\n",
       "      <td>Resident/Fellow/PA/NP</td>\n",
       "    </tr>\n",
       "    <tr>\n",
       "      <th>558</th>\n",
       "      <td>846.0</td>\n",
       "      <td>14846.0</td>\n",
       "      <td>student</td>\n",
       "      <td>Resident/Fellow/PA/NP</td>\n",
       "    </tr>\n",
       "    <tr>\n",
       "      <th>932</th>\n",
       "      <td>399.0</td>\n",
       "      <td>14330.0</td>\n",
       "      <td>student</td>\n",
       "      <td>Resident/Fellow/PA/NP</td>\n",
       "    </tr>\n",
       "    <tr>\n",
       "      <th>1067</th>\n",
       "      <td>534.0</td>\n",
       "      <td>14465.0</td>\n",
       "      <td>student</td>\n",
       "      <td>Resident/Fellow/PA/NP</td>\n",
       "    </tr>\n",
       "    <tr>\n",
       "      <th>1079</th>\n",
       "      <td>546.0</td>\n",
       "      <td>14477.0</td>\n",
       "      <td>student</td>\n",
       "      <td>Resident/Fellow/PA/NP</td>\n",
       "    </tr>\n",
       "    <tr>\n",
       "      <th>1210</th>\n",
       "      <td>2003.0</td>\n",
       "      <td>16003.0</td>\n",
       "      <td>student</td>\n",
       "      <td>Resident/Fellow/PA/NP</td>\n",
       "    </tr>\n",
       "    <tr>\n",
       "      <th>1218</th>\n",
       "      <td>2011.0</td>\n",
       "      <td>16011.0</td>\n",
       "      <td>student</td>\n",
       "      <td>Resident/Fellow/PA/NP</td>\n",
       "    </tr>\n",
       "    <tr>\n",
       "      <th>1252</th>\n",
       "      <td>2099.0</td>\n",
       "      <td>16045.0</td>\n",
       "      <td>student</td>\n",
       "      <td>Resident/Fellow/PA/NP</td>\n",
       "    </tr>\n",
       "    <tr>\n",
       "      <th>1289</th>\n",
       "      <td>2136.0</td>\n",
       "      <td>16082.0</td>\n",
       "      <td>student</td>\n",
       "      <td>Resident/Fellow/PA/NP</td>\n",
       "    </tr>\n",
       "    <tr>\n",
       "      <th>1455</th>\n",
       "      <td>3019.0</td>\n",
       "      <td>17370.0</td>\n",
       "      <td>student</td>\n",
       "      <td>Resident/Fellow/PA/NP</td>\n",
       "    </tr>\n",
       "    <tr>\n",
       "      <th>1503</th>\n",
       "      <td>3417.0</td>\n",
       "      <td>17418.0</td>\n",
       "      <td>student</td>\n",
       "      <td>Resident/Fellow/PA/NP</td>\n",
       "    </tr>\n",
       "    <tr>\n",
       "      <th>1621</th>\n",
       "      <td>3535.0</td>\n",
       "      <td>17536.0</td>\n",
       "      <td>student</td>\n",
       "      <td>Resident/Fellow/PA/NP</td>\n",
       "    </tr>\n",
       "    <tr>\n",
       "      <th>2154</th>\n",
       "      <td>3367.0</td>\n",
       "      <td>17319.0</td>\n",
       "      <td>student</td>\n",
       "      <td>Resident/Fellow/PA/NP</td>\n",
       "    </tr>\n",
       "    <tr>\n",
       "      <th>2328</th>\n",
       "      <td>1103.0</td>\n",
       "      <td>15103.0</td>\n",
       "      <td>student</td>\n",
       "      <td>Resident/Fellow/PA/NP</td>\n",
       "    </tr>\n",
       "    <tr>\n",
       "      <th>2737</th>\n",
       "      <td>1577.0</td>\n",
       "      <td>15512.0</td>\n",
       "      <td>student</td>\n",
       "      <td>Resident/Fellow/PA/NP</td>\n",
       "    </tr>\n",
       "    <tr>\n",
       "      <th>3003</th>\n",
       "      <td>1778.0</td>\n",
       "      <td>15778.0</td>\n",
       "      <td>student</td>\n",
       "      <td>Resident/Fellow/PA/NP</td>\n",
       "    </tr>\n",
       "    <tr>\n",
       "      <th>3074</th>\n",
       "      <td>1849.0</td>\n",
       "      <td>15849.0</td>\n",
       "      <td>student</td>\n",
       "      <td>Resident/Fellow/PA/NP</td>\n",
       "    </tr>\n",
       "    <tr>\n",
       "      <th>3166</th>\n",
       "      <td>1941.0</td>\n",
       "      <td>15941.0</td>\n",
       "      <td>student</td>\n",
       "      <td>Resident/Fellow/PA/NP</td>\n",
       "    </tr>\n",
       "    <tr>\n",
       "      <th>3228</th>\n",
       "      <td>2407.0</td>\n",
       "      <td>16353.0</td>\n",
       "      <td>student</td>\n",
       "      <td>Resident/Fellow/PA/NP</td>\n",
       "    </tr>\n",
       "    <tr>\n",
       "      <th>3908</th>\n",
       "      <td>5300.0</td>\n",
       "      <td>19303.0</td>\n",
       "      <td>student</td>\n",
       "      <td>Resident/Fellow/PA/NP</td>\n",
       "    </tr>\n",
       "    <tr>\n",
       "      <th>4025</th>\n",
       "      <td>5417.0</td>\n",
       "      <td>19420.0</td>\n",
       "      <td>student</td>\n",
       "      <td>Resident/Fellow/PA/NP</td>\n",
       "    </tr>\n",
       "    <tr>\n",
       "      <th>4378</th>\n",
       "      <td>4975.0</td>\n",
       "      <td>18911.0</td>\n",
       "      <td>student</td>\n",
       "      <td>Resident/Fellow/PA/NP</td>\n",
       "    </tr>\n",
       "    <tr>\n",
       "      <th>4413</th>\n",
       "      <td>5010.0</td>\n",
       "      <td>18946.0</td>\n",
       "      <td>student</td>\n",
       "      <td>Resident/Fellow/PA/NP</td>\n",
       "    </tr>\n",
       "    <tr>\n",
       "      <th>4765</th>\n",
       "      <td>3917.0</td>\n",
       "      <td>17866.0</td>\n",
       "      <td>student</td>\n",
       "      <td>Resident/Fellow/PA/NP</td>\n",
       "    </tr>\n",
       "    <tr>\n",
       "      <th>4847</th>\n",
       "      <td>3999.0</td>\n",
       "      <td>17948.0</td>\n",
       "      <td>student</td>\n",
       "      <td>Resident/Fellow/PA/NP</td>\n",
       "    </tr>\n",
       "    <tr>\n",
       "      <th>4964</th>\n",
       "      <td>4116.0</td>\n",
       "      <td>18065.0</td>\n",
       "      <td>student</td>\n",
       "      <td>Resident/Fellow/PA/NP</td>\n",
       "    </tr>\n",
       "    <tr>\n",
       "      <th>6338</th>\n",
       "      <td>7393.0</td>\n",
       "      <td>21102.0</td>\n",
       "      <td>student</td>\n",
       "      <td>Resident/Fellow/PA/NP</td>\n",
       "    </tr>\n",
       "    <tr>\n",
       "      <th>6376</th>\n",
       "      <td>7431.0</td>\n",
       "      <td>21140.0</td>\n",
       "      <td>student</td>\n",
       "      <td>Resident/Fellow/PA/NP</td>\n",
       "    </tr>\n",
       "    <tr>\n",
       "      <th>6626</th>\n",
       "      <td>6192.0</td>\n",
       "      <td>20195.0</td>\n",
       "      <td>student</td>\n",
       "      <td>Resident/Fellow/PA/NP</td>\n",
       "    </tr>\n",
       "    <tr>\n",
       "      <th>7256</th>\n",
       "      <td>7119.0</td>\n",
       "      <td>21370.0</td>\n",
       "      <td>student</td>\n",
       "      <td>Resident/Fellow/PA/NP</td>\n",
       "    </tr>\n",
       "    <tr>\n",
       "      <th>7298</th>\n",
       "      <td>7161.0</td>\n",
       "      <td>21412.0</td>\n",
       "      <td>student</td>\n",
       "      <td>Resident/Fellow/PA/NP</td>\n",
       "    </tr>\n",
       "  </tbody>\n",
       "</table>\n",
       "</div>"
      ],
      "text/plain": [
       "      ROW_ID     CGID    LABEL            DESCRIPTION\n",
       "554    842.0  14842.0  student  Resident/Fellow/PA/NP\n",
       "558    846.0  14846.0  student  Resident/Fellow/PA/NP\n",
       "932    399.0  14330.0  student  Resident/Fellow/PA/NP\n",
       "1067   534.0  14465.0  student  Resident/Fellow/PA/NP\n",
       "1079   546.0  14477.0  student  Resident/Fellow/PA/NP\n",
       "1210  2003.0  16003.0  student  Resident/Fellow/PA/NP\n",
       "1218  2011.0  16011.0  student  Resident/Fellow/PA/NP\n",
       "1252  2099.0  16045.0  student  Resident/Fellow/PA/NP\n",
       "1289  2136.0  16082.0  student  Resident/Fellow/PA/NP\n",
       "1455  3019.0  17370.0  student  Resident/Fellow/PA/NP\n",
       "1503  3417.0  17418.0  student  Resident/Fellow/PA/NP\n",
       "1621  3535.0  17536.0  student  Resident/Fellow/PA/NP\n",
       "2154  3367.0  17319.0  student  Resident/Fellow/PA/NP\n",
       "2328  1103.0  15103.0  student  Resident/Fellow/PA/NP\n",
       "2737  1577.0  15512.0  student  Resident/Fellow/PA/NP\n",
       "3003  1778.0  15778.0  student  Resident/Fellow/PA/NP\n",
       "3074  1849.0  15849.0  student  Resident/Fellow/PA/NP\n",
       "3166  1941.0  15941.0  student  Resident/Fellow/PA/NP\n",
       "3228  2407.0  16353.0  student  Resident/Fellow/PA/NP\n",
       "3908  5300.0  19303.0  student  Resident/Fellow/PA/NP\n",
       "4025  5417.0  19420.0  student  Resident/Fellow/PA/NP\n",
       "4378  4975.0  18911.0  student  Resident/Fellow/PA/NP\n",
       "4413  5010.0  18946.0  student  Resident/Fellow/PA/NP\n",
       "4765  3917.0  17866.0  student  Resident/Fellow/PA/NP\n",
       "4847  3999.0  17948.0  student  Resident/Fellow/PA/NP\n",
       "4964  4116.0  18065.0  student  Resident/Fellow/PA/NP\n",
       "6338  7393.0  21102.0  student  Resident/Fellow/PA/NP\n",
       "6376  7431.0  21140.0  student  Resident/Fellow/PA/NP\n",
       "6626  6192.0  20195.0  student  Resident/Fellow/PA/NP\n",
       "7256  7119.0  21370.0  student  Resident/Fellow/PA/NP\n",
       "7298  7161.0  21412.0  student  Resident/Fellow/PA/NP"
      ]
     },
     "execution_count": 25,
     "metadata": {},
     "output_type": "execute_result"
    }
   ],
   "source": [
    "df_dict['CAREGIVERS'].update(residents)\n",
    "\n",
    "df_dict['CAREGIVERS'][ df_dict['CAREGIVERS']['LABEL'] == 'student' ]"
   ]
  },
  {
   "cell_type": "markdown",
   "metadata": {},
   "source": [
    "### Other EDA"
   ]
  },
  {
   "cell_type": "code",
   "execution_count": 26,
   "metadata": {},
   "outputs": [
    {
     "data": {
      "text/plain": [
       "array(['RPH', 'RPh', 'R.Ph', 'Rph', 'RN', 'PharmD', 'CoOp', 'Par'],\n",
       "      dtype=object)"
      ]
     },
     "execution_count": 26,
     "metadata": {},
     "output_type": "execute_result"
    }
   ],
   "source": [
    "pharmacists = df_dict['CAREGIVERS'][ df_dict['CAREGIVERS']['DESCRIPTION'] == 'Pharmacist' ]\n",
    "\n",
    "pharmacists['LABEL'].unique()"
   ]
  },
  {
   "cell_type": "code",
   "execution_count": 27,
   "metadata": {},
   "outputs": [],
   "source": [
    "# TODO: Do fromkeys with regex\n",
    "rph_label = pharmacists['LABEL'].to_dict().fromkeys(['RPH','RPh','R.Ph','Rph'], 'RPH')\n",
    "\n",
    "pharmacists.replace(rph_label, inplace=True)"
   ]
  },
  {
   "cell_type": "code",
   "execution_count": 28,
   "metadata": {},
   "outputs": [
    {
     "data": {
      "text/plain": [
       "array(['RPH', 'RN', 'PharmD', 'CoOp', 'Par'], dtype=object)"
      ]
     },
     "execution_count": 28,
     "metadata": {},
     "output_type": "execute_result"
    }
   ],
   "source": [
    "pharmacists['LABEL'].unique()"
   ]
  },
  {
   "cell_type": "code",
   "execution_count": 29,
   "metadata": {},
   "outputs": [],
   "source": [
    "df_dict['CAREGIVERS'].update(pharmacists)"
   ]
  },
  {
   "cell_type": "markdown",
   "metadata": {},
   "source": [
    "## Data Visualizations"
   ]
  },
  {
   "cell_type": "code",
   "execution_count": 30,
   "metadata": {
    "scrolled": false
   },
   "outputs": [
    {
     "data": {
      "text/plain": [
       "RPH       79\n",
       "PharmD     3\n",
       "CoOp       1\n",
       "Par        1\n",
       "RN         1\n",
       "Name: LABEL, dtype: int64"
      ]
     },
     "execution_count": 30,
     "metadata": {},
     "output_type": "execute_result"
    }
   ],
   "source": [
    "pharm_vc = pharmacists['LABEL'].value_counts()\n",
    "\n",
    "pharm_vc"
   ]
  },
  {
   "cell_type": "code",
   "execution_count": 31,
   "metadata": {},
   "outputs": [
    {
     "data": {
      "text/plain": [
       "Index(['RPH', 'PharmD', 'CoOp', 'Par', 'RN'], dtype='object')"
      ]
     },
     "execution_count": 31,
     "metadata": {},
     "output_type": "execute_result"
    }
   ],
   "source": [
    "pharm_vc.index"
   ]
  },
  {
   "cell_type": "code",
   "execution_count": 32,
   "metadata": {
    "scrolled": false
   },
   "outputs": [
    {
     "data": {
      "image/png": "[encoded data removed]",
      "text/plain": [
       "<Figure size 432x288 with 1 Axes>"
      ]
     },
     "metadata": {},
     "output_type": "display_data"
    }
   ],
   "source": [
    "# fig, ax = plt.subplots()\n",
    "fig = plt.figure(linewidth=2, edgecolor='k')\n",
    "ax = fig.add_subplot(111)\n",
    "# fig.add_axes((0.5, 0, 1, 1)).set_zorder(0)\n",
    "# explode = [0] + ([0.05] * (len(pharm_vc)-1))\n",
    "\n",
    "patches1, texts1 = ax.pie(pharm_vc, radius=1.5, wedgeprops={'edgecolor': 'w', 'linewidth': 1.5, 'linestyle': 'solid'}\n",
    "      , textprops={'color': 'k', 'fontsize': 10, 'fontweight': 'bold'}, labels=pharm_vc, labeldistance=1.05\n",
    "      )\n",
    "# [p.set_zorder(10) for p in patches1]\n",
    "\n",
    "ax.legend(labels=pharm_vc.index, loc=\"upper right\", bbox_to_anchor=(1.50, 1.25))\n",
    "\n",
    "plt.title('Types of Pharmacists', y=1.25)\n",
    "# plt.tight_layout()\n",
    "plt.show()"
   ]
  },
  {
   "cell_type": "markdown",
   "metadata": {},
   "source": [
    "### Numpy Data"
   ]
  },
  {
   "cell_type": "code",
   "execution_count": 33,
   "metadata": {},
   "outputs": [
    {
     "data": {
      "text/plain": [
       "array([ 0,  1,  2,  3,  4,  5,  6,  7,  8,  9, 10, 11, 12, 13, 14])"
      ]
     },
     "execution_count": 33,
     "metadata": {},
     "output_type": "execute_result"
    }
   ],
   "source": [
    "a = np.arange(15)\n",
    "a"
   ]
  },
  {
   "cell_type": "code",
   "execution_count": 34,
   "metadata": {},
   "outputs": [
    {
     "data": {
      "text/plain": [
       "array([[ 0,  1,  2,  3,  4],\n",
       "       [ 5,  6,  7,  8,  9],\n",
       "       [10, 11, 12, 13, 14]])"
      ]
     },
     "execution_count": 34,
     "metadata": {},
     "output_type": "execute_result"
    }
   ],
   "source": [
    "a = np.arange(15).reshape(3,5)\n",
    "a"
   ]
  },
  {
   "cell_type": "code",
   "execution_count": 35,
   "metadata": {},
   "outputs": [
    {
     "data": {
      "text/plain": [
       "(3, 5)"
      ]
     },
     "execution_count": 35,
     "metadata": {},
     "output_type": "execute_result"
    }
   ],
   "source": [
    "a.shape"
   ]
  },
  {
   "cell_type": "code",
   "execution_count": 36,
   "metadata": {},
   "outputs": [
    {
     "data": {
      "text/plain": [
       "2"
      ]
     },
     "execution_count": 36,
     "metadata": {},
     "output_type": "execute_result"
    }
   ],
   "source": [
    "a.ndim"
   ]
  },
  {
   "cell_type": "code",
   "execution_count": 37,
   "metadata": {},
   "outputs": [
    {
     "data": {
      "text/plain": [
       "'int32'"
      ]
     },
     "execution_count": 37,
     "metadata": {},
     "output_type": "execute_result"
    }
   ],
   "source": [
    "a.dtype.name"
   ]
  },
  {
   "cell_type": "code",
   "execution_count": 38,
   "metadata": {},
   "outputs": [
    {
     "data": {
      "text/plain": [
       "numpy.ndarray"
      ]
     },
     "execution_count": 38,
     "metadata": {},
     "output_type": "execute_result"
    }
   ],
   "source": [
    "type(a)"
   ]
  },
  {
   "cell_type": "code",
   "execution_count": 39,
   "metadata": {},
   "outputs": [
    {
     "data": {
      "text/plain": [
       "array([0, 1, 2, 3, 4, 5, 6, 7, 8, 9])"
      ]
     },
     "execution_count": 39,
     "metadata": {},
     "output_type": "execute_result"
    }
   ],
   "source": [
    "np.array(range(10))"
   ]
  },
  {
   "cell_type": "code",
   "execution_count": 40,
   "metadata": {},
   "outputs": [
    {
     "data": {
      "text/plain": [
       "array([[0., 0., 0.],\n",
       "       [0., 0., 0.]])"
      ]
     },
     "execution_count": 40,
     "metadata": {},
     "output_type": "execute_result"
    }
   ],
   "source": [
    "np.zeros( (2,3) )"
   ]
  },
  {
   "cell_type": "code",
   "execution_count": 41,
   "metadata": {},
   "outputs": [
    {
     "data": {
      "text/plain": [
       "array([[[1., 1., 1., 1.],\n",
       "        [1., 1., 1., 1.],\n",
       "        [1., 1., 1., 1.]],\n",
       "\n",
       "       [[1., 1., 1., 1.],\n",
       "        [1., 1., 1., 1.],\n",
       "        [1., 1., 1., 1.]]])"
      ]
     },
     "execution_count": 41,
     "metadata": {},
     "output_type": "execute_result"
    }
   ],
   "source": [
    "np.ones( (2,3,4) )"
   ]
  },
  {
   "cell_type": "code",
   "execution_count": 42,
   "metadata": {},
   "outputs": [
    {
     "data": {
      "text/plain": [
       "array([[0., 0., 0.],\n",
       "       [0., 0., 0.]])"
      ]
     },
     "execution_count": 42,
     "metadata": {},
     "output_type": "execute_result"
    }
   ],
   "source": [
    "np.empty( (2,3) )"
   ]
  },
  {
   "cell_type": "code",
   "execution_count": 43,
   "metadata": {},
   "outputs": [
    {
     "data": {
      "text/plain": [
       "array([10, 15, 20, 25])"
      ]
     },
     "execution_count": 43,
     "metadata": {},
     "output_type": "execute_result"
    }
   ],
   "source": [
    "np.arange(10, 30, 5)"
   ]
  },
  {
   "cell_type": "code",
   "execution_count": 44,
   "metadata": {},
   "outputs": [
    {
     "data": {
      "text/plain": [
       "array([0. , 0.3, 0.6, 0.9, 1.2, 1.5, 1.8])"
      ]
     },
     "execution_count": 44,
     "metadata": {},
     "output_type": "execute_result"
    }
   ],
   "source": [
    "np.arange(0,2,0.3)"
   ]
  },
  {
   "cell_type": "code",
   "execution_count": 45,
   "metadata": {},
   "outputs": [
    {
     "data": {
      "text/plain": [
       "array([0.  , 0.25, 0.5 , 0.75, 1.  , 1.25, 1.5 , 1.75, 2.  ])"
      ]
     },
     "execution_count": 45,
     "metadata": {},
     "output_type": "execute_result"
    }
   ],
   "source": [
    "np.linspace(0,2,9)"
   ]
  },
  {
   "cell_type": "code",
   "execution_count": 46,
   "metadata": {},
   "outputs": [],
   "source": [
    "from numpy import pi\n",
    "\n",
    "x = np.linspace(0, 2*pi, 100)\n",
    "f = np.sin(x)"
   ]
  },
  {
   "cell_type": "markdown",
   "metadata": {},
   "source": [
    "#### Operations"
   ]
  },
  {
   "cell_type": "code",
   "execution_count": 47,
   "metadata": {},
   "outputs": [
    {
     "data": {
      "text/plain": [
       "array([0, 1, 2, 3])"
      ]
     },
     "execution_count": 47,
     "metadata": {},
     "output_type": "execute_result"
    }
   ],
   "source": [
    "a = np.array([20,30,40,50])\n",
    "b = np.arange(4)\n",
    "b"
   ]
  },
  {
   "cell_type": "code",
   "execution_count": 48,
   "metadata": {},
   "outputs": [
    {
     "data": {
      "text/plain": [
       "array([20, 29, 38, 47])"
      ]
     },
     "execution_count": 48,
     "metadata": {},
     "output_type": "execute_result"
    }
   ],
   "source": [
    "c = a - b\n",
    "c"
   ]
  },
  {
   "cell_type": "code",
   "execution_count": 49,
   "metadata": {},
   "outputs": [
    {
     "data": {
      "text/plain": [
       "array([0, 1, 4, 9], dtype=int32)"
      ]
     },
     "execution_count": 49,
     "metadata": {},
     "output_type": "execute_result"
    }
   ],
   "source": [
    "b**2"
   ]
  },
  {
   "cell_type": "code",
   "execution_count": 50,
   "metadata": {},
   "outputs": [],
   "source": [
    "A = np.array( [[1,1], \n",
    "               [0,1]] )\n",
    "B = np.array( [[2,0], \n",
    "               [3,4]] )"
   ]
  },
  {
   "cell_type": "code",
   "execution_count": 51,
   "metadata": {},
   "outputs": [
    {
     "data": {
      "text/plain": [
       "array([[2, 0],\n",
       "       [0, 4]])"
      ]
     },
     "execution_count": 51,
     "metadata": {},
     "output_type": "execute_result"
    }
   ],
   "source": [
    "A * B  # elementwise product"
   ]
  },
  {
   "cell_type": "code",
   "execution_count": 52,
   "metadata": {},
   "outputs": [
    {
     "data": {
      "text/plain": [
       "array([[5, 4],\n",
       "       [3, 4]])"
      ]
     },
     "execution_count": 52,
     "metadata": {},
     "output_type": "execute_result"
    }
   ],
   "source": [
    "A @ B  # matrix product"
   ]
  },
  {
   "cell_type": "code",
   "execution_count": 53,
   "metadata": {},
   "outputs": [
    {
     "data": {
      "text/plain": [
       "array([[5, 4],\n",
       "       [3, 4]])"
      ]
     },
     "execution_count": 53,
     "metadata": {},
     "output_type": "execute_result"
    }
   ],
   "source": [
    "A.dot(B)  # matrix product"
   ]
  },
  {
   "cell_type": "markdown",
   "metadata": {},
   "source": [
    "#### Shape Manipulation"
   ]
  },
  {
   "cell_type": "code",
   "execution_count": 54,
   "metadata": {},
   "outputs": [
    {
     "data": {
      "text/plain": [
       "array([[6., 6., 8., 1.],\n",
       "       [8., 9., 6., 8.],\n",
       "       [6., 3., 2., 2.]])"
      ]
     },
     "execution_count": 54,
     "metadata": {},
     "output_type": "execute_result"
    }
   ],
   "source": [
    "a = np.floor( 10 * np.random.random((3,4)) )\n",
    "a"
   ]
  },
  {
   "cell_type": "code",
   "execution_count": 55,
   "metadata": {},
   "outputs": [
    {
     "data": {
      "text/plain": [
       "array([[6., 6.],\n",
       "       [8., 1.],\n",
       "       [8., 9.],\n",
       "       [6., 8.],\n",
       "       [6., 3.],\n",
       "       [2., 2.]])"
      ]
     },
     "execution_count": 55,
     "metadata": {},
     "output_type": "execute_result"
    }
   ],
   "source": [
    "a.reshape(6,2)"
   ]
  },
  {
   "cell_type": "code",
   "execution_count": 56,
   "metadata": {},
   "outputs": [
    {
     "data": {
      "text/plain": [
       "(3, 4)"
      ]
     },
     "execution_count": 56,
     "metadata": {},
     "output_type": "execute_result"
    }
   ],
   "source": [
    "a.shape"
   ]
  },
  {
   "cell_type": "code",
   "execution_count": 58,
   "metadata": {},
   "outputs": [
    {
     "data": {
      "text/plain": [
       "array([[6., 6.],\n",
       "       [8., 1.],\n",
       "       [8., 9.],\n",
       "       [6., 8.],\n",
       "       [6., 3.],\n",
       "       [2., 2.]])"
      ]
     },
     "execution_count": 58,
     "metadata": {},
     "output_type": "execute_result"
    }
   ],
   "source": [
    "a.ravel()\n",
    "\n",
    "a.reshape(6,2)"
   ]
  },
  {
   "cell_type": "code",
   "execution_count": 59,
   "metadata": {},
   "outputs": [
    {
     "data": {
      "text/plain": [
       "array([[6., 8., 6.],\n",
       "       [6., 9., 3.],\n",
       "       [8., 6., 2.],\n",
       "       [1., 8., 2.]])"
      ]
     },
     "execution_count": 59,
     "metadata": {},
     "output_type": "execute_result"
    }
   ],
   "source": [
    "a.T  # transpose of original array"
   ]
  },
  {
   "cell_type": "code",
   "execution_count": 60,
   "metadata": {},
   "outputs": [
    {
     "data": {
      "text/plain": [
       "(4, 3)"
      ]
     },
     "execution_count": 60,
     "metadata": {},
     "output_type": "execute_result"
    }
   ],
   "source": [
    "a.T.shape"
   ]
  },
  {
   "cell_type": "code",
   "execution_count": 62,
   "metadata": {},
   "outputs": [
    {
     "data": {
      "text/plain": [
       "array([[6., 6., 8., 1., 8., 9.],\n",
       "       [6., 8., 6., 3., 2., 2.]])"
      ]
     },
     "execution_count": 62,
     "metadata": {},
     "output_type": "execute_result"
    }
   ],
   "source": [
    "a.resize((2,6))\n",
    "a"
   ]
  },
  {
   "cell_type": "code",
   "execution_count": 63,
   "metadata": {},
   "outputs": [
    {
     "data": {
      "text/plain": [
       "(2, 6)"
      ]
     },
     "execution_count": 63,
     "metadata": {},
     "output_type": "execute_result"
    }
   ],
   "source": [
    "a.shape"
   ]
  },
  {
   "cell_type": "code",
   "execution_count": 73,
   "metadata": {},
   "outputs": [
    {
     "data": {
      "text/plain": [
       "array([[6., 6., 8.],\n",
       "       [1., 8., 9.],\n",
       "       [6., 8., 6.],\n",
       "       [3., 2., 2.]])"
      ]
     },
     "execution_count": 73,
     "metadata": {},
     "output_type": "execute_result"
    }
   ],
   "source": [
    "a.reshape(4,-1)  # -1 calculates other column automatically"
   ]
  }
 ],
 "metadata": {
  "kernelspec": {
   "display_name": "Python 3",
   "language": "python",
   "name": "python3"
  },
  "language_info": {
   "codemirror_mode": {
    "name": "ipython",
    "version": 3
   },
   "file_extension": ".py",
   "mimetype": "text/x-python",
   "name": "python",
   "nbconvert_exporter": "python",
   "pygments_lexer": "ipython3",
   "version": "3.7.4"
  }
 },
 "nbformat": 4,
 "nbformat_minor": 4
}
